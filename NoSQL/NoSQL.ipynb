{
 "cells": [
  {
   "cell_type": "code",
   "execution_count": 1,
   "id": "sacred-signal",
   "metadata": {},
   "outputs": [],
   "source": [
    "from json import load\n",
    "import boto3\n",
    "import csv"
   ]
  },
  {
   "cell_type": "code",
   "execution_count": 2,
   "id": "pharmaceutical-window",
   "metadata": {},
   "outputs": [],
   "source": [
    "s3_bucket_name = \"datacont-snagare\"\n",
    "table_name = \"DataTable\""
   ]
  },
  {
   "cell_type": "code",
   "execution_count": 3,
   "id": "challenging-working",
   "metadata": {},
   "outputs": [],
   "source": [
    "# Change config.json to update the credentials\n",
    "with open(\"config.json\") as config:\n",
    "    aws_config = load(config)"
   ]
  },
  {
   "cell_type": "code",
   "execution_count": 4,
   "id": "junior-difference",
   "metadata": {},
   "outputs": [],
   "source": [
    "s3 = boto3.resource(\"s3\", **aws_config)\n",
    "try:\n",
    "    s3.create_bucket(Bucket=s3_bucket_name, CreateBucketConfiguration={\n",
    "    \"LocationConstraint\": aws_config[\"region_name\"]})\n",
    "except Exception as e:\n",
    "    print (e)"
   ]
  },
  {
   "cell_type": "code",
   "execution_count": 5,
   "id": "economic-representative",
   "metadata": {},
   "outputs": [],
   "source": [
    "dyndb = boto3.resource(\"dynamodb\", **aws_config)"
   ]
  },
  {
   "cell_type": "code",
   "execution_count": 6,
   "id": "heard-steps",
   "metadata": {},
   "outputs": [],
   "source": [
    "# The first time that we define a table\n",
    "try:\n",
    "    table = dyndb.create_table(\n",
    "        TableName='DataTable',\n",
    "        KeySchema=[\n",
    "            {\n",
    "                'AttributeName': 'Id',\n",
    "                'KeyType': 'HASH'\n",
    "            },\n",
    "            {\n",
    "                'AttributeName': 'Temp',\n",
    "                'KeyType': 'RANGE'\n",
    "            },\n",
    "        ],\n",
    "        AttributeDefinitions=[\n",
    "            {\n",
    "                'AttributeName': 'Id',\n",
    "                'AttributeType': 'S'\n",
    "            },\n",
    "            {\n",
    "                'AttributeName': 'Temp',\n",
    "                'AttributeType': 'S'\n",
    "            },\n",
    "        ],\n",
    "        ProvisionedThroughput={\n",
    "            'ReadCapacityUnits': 5,\n",
    "            'WriteCapacityUnits': 5\n",
    "        }\n",
    "    )\n",
    "except Exception as e:\n",
    "    print (e)\n",
    "    #if there is an exception, the table may already exist. if so...\n",
    "    table = dyndb.Table(\"DataTable\")"
   ]
  },
  {
   "cell_type": "code",
   "execution_count": 7,
   "id": "exact-juice",
   "metadata": {},
   "outputs": [],
   "source": [
    "table.meta.client.get_waiter('table_exists').wait(TableName=table_name)"
   ]
  },
  {
   "cell_type": "code",
   "execution_count": 8,
   "id": "artificial-listing",
   "metadata": {},
   "outputs": [
    {
     "name": "stdout",
     "output_type": "stream",
     "text": [
      "['1', '-1', '52', '3.4', 'exp1.csv']\n",
      "['2', '-2', '52.1', '3.4', 'exp2.csv']\n",
      "['3', '-2.93', '57.1', '3.7', 'exp3.csv']\n"
     ]
    }
   ],
   "source": [
    "with open(\"experiments.csv\") as csvfile: \n",
    "    csvf = csv.reader(csvfile, delimiter=',', quotechar='|')\n",
    "    next(csvf)\n",
    "    for item in csvf:\n",
    "        print(item)\n",
    "        body = open(item[4], 'rb')\n",
    "        s3.Object(s3_bucket_name, item[4]).put(Body=body)\n",
    "        s3.Object(s3_bucket_name, item[4]).Acl().put(ACL='public-read')\n",
    "        metadata_item = {\n",
    "            'Id': item[0], \n",
    "            'Temp':item[1],\n",
    "            'Conductivity': item[2],\n",
    "            'Concentration':item[3],\n",
    "            'URL':f\"https://{s3_bucket_name}.s3.{aws_config['region_name']}.amazonaws.com/{item[4]}\"\n",
    "        }\n",
    "        try:\n",
    "            table.put_item(Item=metadata_item)\n",
    "        except:\n",
    "            print(\"Item already exists!\")"
   ]
  },
  {
   "cell_type": "code",
   "execution_count": 9,
   "id": "injured-laugh",
   "metadata": {},
   "outputs": [
    {
     "name": "stdout",
     "output_type": "stream",
     "text": [
      "{'Concentration': '3.7', 'Temp': '-2.93', 'Id': '3', 'Conductivity': '57.1', 'URL': 'https://datacont-snagare.s3.us-west-2.amazonaws.com/exp3.csv'}\n"
     ]
    }
   ],
   "source": [
    "response = table.get_item(\n",
    "    Key={\n",
    "        'Id': '3',\n",
    "        'Temp': '-2.93',\n",
    "    }\n",
    ")\n",
    "item = response['Item']\n",
    "print(item)"
   ]
  },
  {
   "cell_type": "code",
   "execution_count": 10,
   "id": "shared-statement",
   "metadata": {},
   "outputs": [
    {
     "name": "stdout",
     "output_type": "stream",
     "text": [
      "{'Item': {'Concentration': '3.7', 'Temp': '-2.93', 'Id': '3', 'Conductivity': '57.1', 'URL': 'https://datacont-snagare.s3.us-west-2.amazonaws.com/exp3.csv'}, 'ResponseMetadata': {'RequestId': 'MLVLH1F8G07M535KQDK0PONOM7VV4KQNSO5AEMVJF66Q9ASUAAJG', 'HTTPStatusCode': 200, 'HTTPHeaders': {'server': 'Server', 'date': 'Fri, 22 Oct 2021 01:15:55 GMT', 'content-type': 'application/x-amz-json-1.0', 'content-length': '177', 'connection': 'keep-alive', 'x-amzn-requestid': 'MLVLH1F8G07M535KQDK0PONOM7VV4KQNSO5AEMVJF66Q9ASUAAJG', 'x-amz-crc32': '1633249652'}, 'RetryAttempts': 0}}\n"
     ]
    }
   ],
   "source": [
    "print(response)"
   ]
  }
 ],
 "metadata": {
  "kernelspec": {
   "display_name": "Python 3",
   "language": "python",
   "name": "python3"
  },
  "language_info": {
   "codemirror_mode": {
    "name": "ipython",
    "version": 3
   },
   "file_extension": ".py",
   "mimetype": "text/x-python",
   "name": "python",
   "nbconvert_exporter": "python",
   "pygments_lexer": "ipython3",
   "version": "3.9.0"
  }
 },
 "nbformat": 4,
 "nbformat_minor": 5
}
